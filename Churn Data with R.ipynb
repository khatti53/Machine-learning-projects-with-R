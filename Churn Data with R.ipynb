{
 "cells": [
  {
   "cell_type": "code",
   "execution_count": 1,
   "metadata": {},
   "outputs": [],
   "source": [
    "churn_data = read.csv('Churn+Data.csv')"
   ]
  },
  {
   "cell_type": "code",
   "execution_count": 2,
   "metadata": {},
   "outputs": [
    {
     "name": "stdout",
     "output_type": "stream",
     "text": [
      "'data.frame':\t3333 obs. of  11 variables:\n",
      " $ Churn          : int  0 0 0 0 0 0 0 0 0 0 ...\n",
      " $ AccountWeeks   : int  128 107 137 84 75 118 121 147 117 141 ...\n",
      " $ ContractRenewal: int  1 1 1 0 0 0 1 0 1 0 ...\n",
      " $ DataPlan       : int  1 1 0 0 0 0 1 0 0 1 ...\n",
      " $ DataUsage      : num  2.7 3.7 0 0 0 0 2.03 0 0.19 3.02 ...\n",
      " $ CustServCalls  : int  1 1 0 2 3 0 3 0 1 0 ...\n",
      " $ DayMins        : num  265 162 243 299 167 ...\n",
      " $ DayCalls       : int  110 123 114 71 113 98 88 79 97 84 ...\n",
      " $ MonthlyCharge  : num  89 82 52 57 41 57 87.3 36 63.9 93.2 ...\n",
      " $ OverageFee     : num  9.87 9.78 6.06 3.1 7.42 ...\n",
      " $ RoamMins       : num  10 13.7 12.2 6.6 10.1 6.3 7.5 7.1 8.7 11.2 ...\n"
     ]
    }
   ],
   "source": [
    "str(churn_data)"
   ]
  },
  {
   "cell_type": "code",
   "execution_count": 4,
   "metadata": {},
   "outputs": [],
   "source": [
    "churn_data$Churn = factor(churn_data$Churn)"
   ]
  },
  {
   "cell_type": "code",
   "execution_count": 5,
   "metadata": {},
   "outputs": [],
   "source": [
    "logit_model = glm(Churn ~., data=churn_data, family='binomial')"
   ]
  },
  {
   "cell_type": "code",
   "execution_count": 6,
   "metadata": {},
   "outputs": [],
   "source": [
    "churn_data$churn_predicted = predict(logit_model, data=churn_data, type='response')"
   ]
  },
  {
   "cell_type": "code",
   "execution_count": 7,
   "metadata": {},
   "outputs": [],
   "source": [
    "churn_data$churn_predicted = ifelse(churn_data$churn_predicted>0.5,1,0)"
   ]
  },
  {
   "cell_type": "code",
   "execution_count": 8,
   "metadata": {},
   "outputs": [
    {
     "data": {
      "text/plain": [
       "   \n",
       "       0    1\n",
       "  0 2780   70\n",
       "  1  394   89"
      ]
     },
     "metadata": {},
     "output_type": "display_data"
    }
   ],
   "source": [
    "table(churn_data$Churn, churn_data$churn_predicted)"
   ]
  },
  {
   "cell_type": "code",
   "execution_count": 9,
   "metadata": {},
   "outputs": [],
   "source": [
    "misClassError = mean(churn_data$churn_predicted != churn_data$Churn)"
   ]
  },
  {
   "cell_type": "code",
   "execution_count": 11,
   "metadata": {},
   "outputs": [
    {
     "name": "stdout",
     "output_type": "stream",
     "text": [
      "[1] \"Accuracy = 0.860786078607861\"\n"
     ]
    }
   ],
   "source": [
    "print(paste('Accuracy =',1-misClassError))"
   ]
  },
  {
   "cell_type": "markdown",
   "metadata": {},
   "source": [
    "### Out of sample error"
   ]
  },
  {
   "cell_type": "code",
   "execution_count": 12,
   "metadata": {},
   "outputs": [
    {
     "name": "stderr",
     "output_type": "stream",
     "text": [
      "also installing the dependency 'bitops'\n",
      "\n"
     ]
    },
    {
     "name": "stdout",
     "output_type": "stream",
     "text": [
      "package 'bitops' successfully unpacked and MD5 sums checked\n",
      "package 'caTools' successfully unpacked and MD5 sums checked\n",
      "\n",
      "The downloaded binary packages are in\n",
      "\tC:\\Users\\Yusuf\\AppData\\Local\\Temp\\RtmpmaOQ1k\\downloaded_packages\n"
     ]
    }
   ],
   "source": [
    "# Split data in train and test dataset\n",
    "install.packages('caTools')"
   ]
  },
  {
   "cell_type": "code",
   "execution_count": 13,
   "metadata": {},
   "outputs": [
    {
     "name": "stderr",
     "output_type": "stream",
     "text": [
      "Warning message:\n",
      "\"package 'caTools' was built under R version 3.6.3\""
     ]
    }
   ],
   "source": [
    "library(caTools)"
   ]
  },
  {
   "cell_type": "code",
   "execution_count": 14,
   "metadata": {},
   "outputs": [
    {
     "data": {
      "text/html": [
       "<ol class=list-inline>\n",
       "\t<li>FALSE</li>\n",
       "\t<li>TRUE</li>\n",
       "\t<li>FALSE</li>\n",
       "\t<li>TRUE</li>\n",
       "\t<li>TRUE</li>\n",
       "\t<li>TRUE</li>\n",
       "\t<li>TRUE</li>\n",
       "\t<li>TRUE</li>\n",
       "\t<li>FALSE</li>\n",
       "\t<li>FALSE</li>\n",
       "\t<li>TRUE</li>\n",
       "\t<li>TRUE</li>\n",
       "</ol>\n"
      ],
      "text/latex": [
       "\\begin{enumerate*}\n",
       "\\item FALSE\n",
       "\\item TRUE\n",
       "\\item FALSE\n",
       "\\item TRUE\n",
       "\\item TRUE\n",
       "\\item TRUE\n",
       "\\item TRUE\n",
       "\\item TRUE\n",
       "\\item FALSE\n",
       "\\item FALSE\n",
       "\\item TRUE\n",
       "\\item TRUE\n",
       "\\end{enumerate*}\n"
      ],
      "text/markdown": [
       "1. FALSE\n",
       "2. TRUE\n",
       "3. FALSE\n",
       "4. TRUE\n",
       "5. TRUE\n",
       "6. TRUE\n",
       "7. TRUE\n",
       "8. TRUE\n",
       "9. FALSE\n",
       "10. FALSE\n",
       "11. TRUE\n",
       "12. TRUE\n",
       "\n",
       "\n"
      ],
      "text/plain": [
       " [1] FALSE  TRUE FALSE  TRUE  TRUE  TRUE  TRUE  TRUE FALSE FALSE  TRUE  TRUE"
      ]
     },
     "metadata": {},
     "output_type": "display_data"
    }
   ],
   "source": [
    "set.seed(390)\n",
    "split = sample.split(churn_data, SplitRatio = 0.70)\n",
    "split"
   ]
  },
  {
   "cell_type": "code",
   "execution_count": 15,
   "metadata": {},
   "outputs": [],
   "source": [
    "train = subset(churn_data, split== 'TRUE')\n",
    "test = subset(churn_data, split=='FALSE')"
   ]
  },
  {
   "cell_type": "code",
   "execution_count": 16,
   "metadata": {},
   "outputs": [
    {
     "name": "stdout",
     "output_type": "stream",
     "text": [
      "'data.frame':\t2222 obs. of  12 variables:\n",
      " $ Churn          : Factor w/ 2 levels \"0\",\"1\": 1 1 1 1 1 1 2 1 1 2 ...\n",
      " $ AccountWeeks   : int  107 84 75 118 121 147 65 74 95 161 ...\n",
      " $ ContractRenewal: int  1 0 0 0 1 0 1 1 1 1 ...\n",
      " $ DataPlan       : int  1 0 0 0 1 0 0 0 0 0 ...\n",
      " $ DataUsage      : num  3.7 0 0 0 2.03 0 0.29 0.34 0.44 0 ...\n",
      " $ CustServCalls  : int  1 2 3 0 3 0 4 0 3 4 ...\n",
      " $ DayMins        : num  162 299 167 223 218 ...\n",
      " $ DayCalls       : int  123 71 113 98 88 79 137 127 88 67 ...\n",
      " $ MonthlyCharge  : num  82 57 41 57 87.3 36 44.9 49.4 52.4 84 ...\n",
      " $ OverageFee     : num  9.78 3.1 7.42 11.03 17.43 ...\n",
      " $ RoamMins       : num  13.7 6.6 10.1 6.3 7.5 7.1 12.7 9.1 12.3 5.4 ...\n",
      " $ churn_predicted: num  0 1 0 0 0 0 0 0 0 1 ...\n"
     ]
    }
   ],
   "source": [
    "str(train)"
   ]
  },
  {
   "cell_type": "code",
   "execution_count": 17,
   "metadata": {},
   "outputs": [
    {
     "name": "stdout",
     "output_type": "stream",
     "text": [
      "'data.frame':\t1111 obs. of  12 variables:\n",
      " $ Churn          : Factor w/ 2 levels \"0\",\"1\": 1 1 1 1 1 1 1 2 1 1 ...\n",
      " $ AccountWeeks   : int  128 137 117 141 168 62 147 77 132 57 ...\n",
      " $ ContractRenewal: int  1 1 1 0 1 1 1 1 1 1 ...\n",
      " $ DataPlan       : int  1 0 0 1 0 0 0 0 0 1 ...\n",
      " $ DataUsage      : num  2.7 0 0.19 3.02 0 0 0.31 0 0 2.57 ...\n",
      " $ CustServCalls  : int  1 0 1 0 1 4 0 5 0 0 ...\n",
      " $ DayMins        : num  265 243 184 259 129 ...\n",
      " $ DayCalls       : int  110 114 97 84 96 70 117 89 86 115 ...\n",
      " $ MonthlyCharge  : num  89 52 63.9 93.2 31 47 50.1 26 35 78.7 ...\n",
      " $ OverageFee     : num  9.87 6.06 17.58 11.1 5.25 ...\n",
      " $ RoamMins       : num  10 12.2 8.7 11.2 11.2 13.1 10.6 5.7 10.3 9.5 ...\n",
      " $ churn_predicted: num  0 0 0 0 0 0 0 0 0 0 ...\n"
     ]
    }
   ],
   "source": [
    "str(test)"
   ]
  },
  {
   "cell_type": "code",
   "execution_count": 19,
   "metadata": {},
   "outputs": [],
   "source": [
    "# Train model with logistic regression using glm function\n",
    "logit_model = glm(Churn ~., data= train, family='binomial')"
   ]
  },
  {
   "cell_type": "code",
   "execution_count": 20,
   "metadata": {},
   "outputs": [
    {
     "data": {
      "text/plain": [
       "\n",
       "Call:  glm(formula = Churn ~ ., family = \"binomial\", data = train)\n",
       "\n",
       "Coefficients:\n",
       "    (Intercept)     AccountWeeks  ContractRenewal         DataPlan  \n",
       "     -5.8415026       -0.0002176       -2.2973574       -1.4657538  \n",
       "      DataUsage    CustServCalls          DayMins         DayCalls  \n",
       "      0.8602383        0.6133581        0.0250707        0.0012081  \n",
       "  MonthlyCharge       OverageFee         RoamMins  churn_predicted  \n",
       "     -0.0688517        0.2647081        0.0981039       -0.6121556  \n",
       "\n",
       "Degrees of Freedom: 2221 Total (i.e. Null);  2210 Residual\n",
       "Null Deviance:\t    1864 \n",
       "Residual Deviance: 1459 \tAIC: 1483"
      ]
     },
     "metadata": {},
     "output_type": "display_data"
    }
   ],
   "source": [
    "logit_model"
   ]
  },
  {
   "cell_type": "code",
   "execution_count": 21,
   "metadata": {},
   "outputs": [
    {
     "data": {
      "text/plain": [
       "\n",
       "Call:\n",
       "glm(formula = Churn ~ ., family = \"binomial\", data = train)\n",
       "\n",
       "Deviance Residuals: \n",
       "    Min       1Q   Median       3Q      Max  \n",
       "-1.8314  -0.5134  -0.3329  -0.1900   3.0635  \n",
       "\n",
       "Coefficients:\n",
       "                  Estimate Std. Error z value Pr(>|z|)    \n",
       "(Intercept)     -5.8415026  0.6876306  -8.495  < 2e-16 ***\n",
       "AccountWeeks    -0.0002176  0.0017561  -0.124 0.901398    \n",
       "ContractRenewal -2.2973574  0.2088407 -11.001  < 2e-16 ***\n",
       "DataPlan        -1.4657538  0.6573964  -2.230 0.025772 *  \n",
       "DataUsage        0.8602383  2.3549308   0.365 0.714893    \n",
       "CustServCalls    0.6133581  0.0520640  11.781  < 2e-16 ***\n",
       "DayMins          0.0250707  0.0397756   0.630 0.528496    \n",
       "DayCalls         0.0012081  0.0033379   0.362 0.717402    \n",
       "MonthlyCharge   -0.0688517  0.2335740  -0.295 0.768166    \n",
       "OverageFee       0.2647081  0.3986152   0.664 0.506646    \n",
       "RoamMins         0.0981039  0.0269550   3.640 0.000273 ***\n",
       "churn_predicted -0.6121556  0.2789198  -2.195 0.028182 *  \n",
       "---\n",
       "Signif. codes:  0 '***' 0.001 '**' 0.01 '*' 0.05 '.' 0.1 ' ' 1\n",
       "\n",
       "(Dispersion parameter for binomial family taken to be 1)\n",
       "\n",
       "    Null deviance: 1863.5  on 2221  degrees of freedom\n",
       "Residual deviance: 1458.8  on 2210  degrees of freedom\n",
       "AIC: 1482.8\n",
       "\n",
       "Number of Fisher Scoring iterations: 6\n"
      ]
     },
     "metadata": {},
     "output_type": "display_data"
    }
   ],
   "source": [
    "summary(logit_model)"
   ]
  },
  {
   "cell_type": "code",
   "execution_count": 22,
   "metadata": {},
   "outputs": [],
   "source": [
    "logit_model_1 = glm(Churn ~ CustServCalls + ContractRenewal+RoamMins, data=train,family=binomial)"
   ]
  },
  {
   "cell_type": "code",
   "execution_count": 23,
   "metadata": {},
   "outputs": [
    {
     "data": {
      "text/plain": [
       "\n",
       "Call:\n",
       "glm(formula = Churn ~ CustServCalls + ContractRenewal + RoamMins, \n",
       "    family = binomial, data = train)\n",
       "\n",
       "Deviance Residuals: \n",
       "    Min       1Q   Median       3Q      Max  \n",
       "-1.6542  -0.5350  -0.4152  -0.3256   2.6332  \n",
       "\n",
       "Coefficients:\n",
       "                Estimate Std. Error z value Pr(>|z|)    \n",
       "(Intercept)     -1.84829    0.30339  -6.092 1.11e-09 ***\n",
       "CustServCalls    0.49507    0.04486  11.035  < 2e-16 ***\n",
       "ContractRenewal -1.95571    0.16711 -11.703  < 2e-16 ***\n",
       "RoamMins         0.08194    0.02356   3.478 0.000505 ***\n",
       "---\n",
       "Signif. codes:  0 '***' 0.001 '**' 0.01 '*' 0.05 '.' 0.1 ' ' 1\n",
       "\n",
       "(Dispersion parameter for binomial family taken to be 1)\n",
       "\n",
       "    Null deviance: 1863.5  on 2221  degrees of freedom\n",
       "Residual deviance: 1612.2  on 2218  degrees of freedom\n",
       "AIC: 1620.2\n",
       "\n",
       "Number of Fisher Scoring iterations: 5\n"
      ]
     },
     "metadata": {},
     "output_type": "display_data"
    }
   ],
   "source": [
    "summary(logit_model_1)"
   ]
  },
  {
   "cell_type": "code",
   "execution_count": 24,
   "metadata": {},
   "outputs": [],
   "source": [
    "# Making prediction using test dataset based on logit model\n",
    "fitted.results = predict(logit_model, test, type='response')"
   ]
  },
  {
   "cell_type": "code",
   "execution_count": null,
   "metadata": {},
   "outputs": [],
   "source": [
    "fitted.results.new = fitted.results"
   ]
  },
  {
   "cell_type": "code",
   "execution_count": 25,
   "metadata": {},
   "outputs": [],
   "source": [
    "# Change probabilities to class\n",
    "fitted.results = ifelse(fitted.results>0.5, 1,0)"
   ]
  },
  {
   "cell_type": "code",
   "execution_count": 26,
   "metadata": {},
   "outputs": [
    {
     "data": {
      "text/plain": [
       "   fitted.results\n",
       "      0   1\n",
       "  0 920  37\n",
       "  1 120  34"
      ]
     },
     "metadata": {},
     "output_type": "display_data"
    },
    {
     "name": "stdout",
     "output_type": "stream",
     "text": [
      "[1] \"Accuracy =  0.858685868586859\"\n"
     ]
    }
   ],
   "source": [
    "# Evaluate model accuracy using confusion matrix\n",
    "table(test$Churn, fitted.results)\n",
    "misClassError = mean(fitted.results != test$Churn)\n",
    "print(paste('Accuracy = ', 1-misClassError))"
   ]
  },
  {
   "cell_type": "code",
   "execution_count": 29,
   "metadata": {},
   "outputs": [],
   "source": [
    "# Model Evaluation using confusion matrix function\n",
    "library(caret)"
   ]
  },
  {
   "cell_type": "code",
   "execution_count": 28,
   "metadata": {},
   "outputs": [],
   "source": [
    "library(lattice)\n",
    "library(ggplot2)"
   ]
  },
  {
   "cell_type": "code",
   "execution_count": 30,
   "metadata": {},
   "outputs": [
    {
     "data": {
      "text/plain": [
       "Confusion Matrix and Statistics\n",
       "\n",
       "   fitted.results\n",
       "      0   1\n",
       "  0 920  37\n",
       "  1 120  34\n",
       "                                          \n",
       "               Accuracy : 0.8587          \n",
       "                 95% CI : (0.8368, 0.8786)\n",
       "    No Information Rate : 0.9361          \n",
       "    P-Value [Acc > NIR] : 1               \n",
       "                                          \n",
       "                  Kappa : 0.2353          \n",
       "                                          \n",
       " Mcnemar's Test P-Value : 5.977e-11       \n",
       "                                          \n",
       "            Sensitivity : 0.8846          \n",
       "            Specificity : 0.4789          \n",
       "         Pos Pred Value : 0.9613          \n",
       "         Neg Pred Value : 0.2208          \n",
       "             Prevalence : 0.9361          \n",
       "         Detection Rate : 0.8281          \n",
       "   Detection Prevalence : 0.8614          \n",
       "      Balanced Accuracy : 0.6817          \n",
       "                                          \n",
       "       'Positive' Class : 0               \n",
       "                                          "
      ]
     },
     "metadata": {},
     "output_type": "display_data"
    }
   ],
   "source": [
    "confusionMatrix(table(test$Churn, fitted.results))"
   ]
  },
  {
   "cell_type": "code",
   "execution_count": 31,
   "metadata": {},
   "outputs": [
    {
     "name": "stderr",
     "output_type": "stream",
     "text": [
      "also installing the dependencies 'gtools', 'gplots'\n",
      "\n"
     ]
    },
    {
     "name": "stdout",
     "output_type": "stream",
     "text": [
      "package 'gtools' successfully unpacked and MD5 sums checked\n",
      "package 'gplots' successfully unpacked and MD5 sums checked\n",
      "package 'ROCR' successfully unpacked and MD5 sums checked\n",
      "\n",
      "The downloaded binary packages are in\n",
      "\tC:\\Users\\Yusuf\\AppData\\Local\\Temp\\RtmpmaOQ1k\\downloaded_packages\n"
     ]
    }
   ],
   "source": [
    "# ROC-AUC curve\n",
    "install.packages('ROCR')"
   ]
  },
  {
   "cell_type": "code",
   "execution_count": 32,
   "metadata": {},
   "outputs": [
    {
     "name": "stderr",
     "output_type": "stream",
     "text": [
      "Warning message:\n",
      "\"package 'ROCR' was built under R version 3.6.3\""
     ]
    }
   ],
   "source": [
    "library(ROCR)"
   ]
  },
  {
   "cell_type": "code",
   "execution_count": 33,
   "metadata": {},
   "outputs": [],
   "source": [
    "ROCRpred = prediction(fitted.results, test$Churn)"
   ]
  },
  {
   "cell_type": "code",
   "execution_count": 35,
   "metadata": {},
   "outputs": [],
   "source": [
    "ROCRPerf = performance(ROCRpred, measure='tpr', x.measure='fpr')"
   ]
  },
  {
   "cell_type": "code",
   "execution_count": 36,
   "metadata": {},
   "outputs": [
    {
     "data": {
      "image/png": "[encoded data removed]",
      "text/plain": [
       "plot without title"
      ]
     },
     "metadata": {},
     "output_type": "display_data"
    }
   ],
   "source": [
    "plot(ROCRPerf)"
   ]
  },
  {
   "cell_type": "code",
   "execution_count": 37,
   "metadata": {},
   "outputs": [
    {
     "data": {
      "image/png": "[encoded data removed]",
      "text/plain": [
       "plot without title"
      ]
     },
     "metadata": {},
     "output_type": "display_data"
    }
   ],
   "source": [
    "plot(ROCRPerf, colorize=TRUE)"
   ]
  },
  {
   "cell_type": "code",
   "execution_count": 38,
   "metadata": {},
   "outputs": [
    {
     "data": {
      "image/png": "[encoded data removed]",
      "text/plain": [
       "plot without title"
      ]
     },
     "metadata": {},
     "output_type": "display_data"
    }
   ],
   "source": [
    "plot(ROCRPerf, colorize=TRUE, print.cutoffs.at=seq(0.1, by=0.1))"
   ]
  },
  {
   "cell_type": "code",
   "execution_count": 48,
   "metadata": {},
   "outputs": [
    {
     "data": {
      "text/html": [
       "0.591058366920436"
      ],
      "text/latex": [
       "0.591058366920436"
      ],
      "text/markdown": [
       "0.591058366920436"
      ],
      "text/plain": [
       "[1] 0.5910584"
      ]
     },
     "metadata": {},
     "output_type": "display_data"
    },
    {
     "data": {
      "image/png": "[encoded data removed]",
      "text/plain": [
       "Plot with title \"ROC Curve\""
      ]
     },
     "metadata": {},
     "output_type": "display_data"
    }
   ],
   "source": [
    "plot(ROCRPerf, colorize=TRUE, print.cutoffs.at=seq(0.1, by=0.1), main = 'ROC Curve')\n",
    "abline(a=0, b=1)\n",
    "auc = performance(ROCRpred, measure = 'auc')\n",
    "auc = auc@y.values[[1]]\n",
    "auc\n",
    "auc = round(auc, 4)\n",
    "legend(0.5, 0.4, auc, title='AUC', cex=1)"
   ]
  },
  {
   "cell_type": "code",
   "execution_count": null,
   "metadata": {},
   "outputs": [],
   "source": []
  }
 ],
 "metadata": {
  "kernelspec": {
   "display_name": "R",
   "language": "R",
   "name": "ir"
  },
  "language_info": {
   "codemirror_mode": "r",
   "file_extension": ".r",
   "mimetype": "text/x-r-source",
   "name": "R",
   "pygments_lexer": "r",
   "version": "3.6.1"
  }
 },
 "nbformat": 4,
 "nbformat_minor": 4
}
